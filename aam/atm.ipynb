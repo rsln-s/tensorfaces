{
 "cells": [
  {
   "cell_type": "markdown",
   "metadata": {},
   "source": [
    "http://www.menpo.org/menpofit/atm.html"
   ]
  },
  {
   "cell_type": "code",
   "execution_count": null,
   "metadata": {},
   "outputs": [],
   "source": [
    "from pathlib import Path\n",
    "import menpo.io as mio\n",
    "\n",
    "path_to_lfpw = Path('/home/rshaydu/tensorfaces/lfpw/trainset/')\n",
    "\n",
    "image = mio.import_image(path_to_lfpw / 'image_0002.png')\n",
    "image = image.crop_to_landmarks_proportion(0.5)\n",
    "\n",
    "template = mio.import_image(path_to_lfpw / 'image_0005.png')\n",
    "template = template.crop_to_landmarks_proportion(0.5)\n"
   ]
  },
  {
   "cell_type": "code",
   "execution_count": null,
   "metadata": {},
   "outputs": [],
   "source": [
    "%matplotlib inline\n",
    "import matplotlib.pyplot as plt\n",
    "\n",
    "plt.subplot(121)\n",
    "image.view()\n",
    "plt.gca().set_title('Input Image')\n",
    "\n",
    "plt.subplot(122)\n",
    "template.view_landmarks(marker_face_colour='white', marker_edge_colour='black',\n",
    "                        marker_size=4)\n",
    "plt.gca().set_title('Template');\n"
   ]
  },
  {
   "cell_type": "code",
   "execution_count": null,
   "metadata": {},
   "outputs": [],
   "source": [
    "from menpo.visualize import print_progress\n",
    "\n",
    "training_shapes = []\n",
    "for lg in print_progress(mio.import_landmark_files(path_to_lfpw / '*.pts', verbose=True)):\n",
    "    training_shapes.append(lg)\n"
   ]
  },
  {
   "cell_type": "code",
   "execution_count": null,
   "metadata": {},
   "outputs": [],
   "source": [
    "\n"
   ]
  },
  {
   "cell_type": "code",
   "execution_count": null,
   "metadata": {},
   "outputs": [],
   "source": [
    "from menpofit.atm import HolisticATM\n",
    "from menpo.feature import igo\n",
    "from menpofit.transform import DifferentiableThinPlateSplines\n",
    "\n",
    "atm = HolisticATM(template, training_shapes, group='PTS',\n",
    "                  diagonal=180, scales=(0.25, 1.0),\n",
    "                  holistic_features=igo, verbose=True, transform=DifferentiableThinPlateSplines)\n"
   ]
  },
  {
   "cell_type": "code",
   "execution_count": null,
   "metadata": {},
   "outputs": [],
   "source": [
    "template.view()"
   ]
  },
  {
   "cell_type": "code",
   "execution_count": null,
   "metadata": {},
   "outputs": [],
   "source": [
    "atm.view_shape_models_widget()\n",
    "\n"
   ]
  },
  {
   "cell_type": "code",
   "execution_count": null,
   "metadata": {},
   "outputs": [],
   "source": [
    "atm.view_atm_widget()"
   ]
  },
  {
   "cell_type": "code",
   "execution_count": null,
   "metadata": {},
   "outputs": [],
   "source": [
    "from menpofit.atm import LucasKanadeATMFitter, InverseCompositional\n",
    "\n",
    "fitter = LucasKanadeATMFitter(atm,\n",
    "                              lk_algorithm_cls=InverseCompositional, n_shape=[5, 15])\n"
   ]
  },
  {
   "cell_type": "code",
   "execution_count": null,
   "metadata": {},
   "outputs": [],
   "source": [
    "print(fitter)"
   ]
  },
  {
   "cell_type": "code",
   "execution_count": null,
   "metadata": {},
   "outputs": [],
   "source": [
    "from menpodetect import load_dlib_frontal_face_detector\n",
    "\n",
    "# Load detector\n",
    "detect = load_dlib_frontal_face_detector()\n",
    "\n",
    "image = mio.import_image('/home/rshaydu/tensorfaces/FaceBase_png/amir-vp0-il1-ex2.png')\n",
    "\n",
    "# Detect\n",
    "bboxes = detect(image)\n",
    "print(\"{} detected faces.\".format(len(bboxes)))\n",
    "\n",
    "# View\n",
    "if len(bboxes) > 0:\n",
    "    image.view_landmarks(group='dlib_0', line_colour='white',\n",
    "                         render_markers=False, line_width=3);\n"
   ]
  },
  {
   "cell_type": "code",
   "execution_count": null,
   "metadata": {},
   "outputs": [],
   "source": [
    "# initial bbox\n",
    "initial_bbox = bboxes[0]\n",
    "\n",
    "# fit image\n",
    "result = fitter.fit_from_bb(image, initial_bbox, max_iters=200)\n",
    "\n",
    "# print result\n",
    "print(result)\n"
   ]
  },
  {
   "cell_type": "code",
   "execution_count": null,
   "metadata": {},
   "outputs": [],
   "source": [
    "result.view(render_initial_shape=True)\n",
    "result.image.shape"
   ]
  },
  {
   "cell_type": "code",
   "execution_count": null,
   "metadata": {},
   "outputs": [],
   "source": [
    "from menpofit.transform import DifferentiablePiecewiseAffine\n",
    "\n",
    "warped = fitter.warped_images(result.image, [result.final_shape, fitter.reference_shape])\n",
    "warped[0].shape"
   ]
  },
  {
   "cell_type": "code",
   "execution_count": null,
   "metadata": {},
   "outputs": [],
   "source": []
  }
 ],
 "metadata": {
  "kernelspec": {
   "display_name": "menpo",
   "language": "python",
   "name": "menpo"
  },
  "language_info": {
   "codemirror_mode": {
    "name": "ipython",
    "version": 3
   },
   "file_extension": ".py",
   "mimetype": "text/x-python",
   "name": "python",
   "nbconvert_exporter": "python",
   "pygments_lexer": "ipython3",
   "version": "3.5.4"
  }
 },
 "nbformat": 4,
 "nbformat_minor": 2
}
